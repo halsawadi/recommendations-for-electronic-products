{
 "cells": [
  {
   "cell_type": "code",
   "execution_count": 5,
   "id": "7f7acc96-8c9d-47aa-ad51-e1448ef8d833",
   "metadata": {
    "tags": []
   },
   "outputs": [],
   "source": [
    "import pandas as pd\n",
    "import numpy as np\n",
    "import matplotlib.pyplot as plt\n",
    "\n",
    "from scipy.sparse import coo_matrix\n",
    "from sklearn.metrics.pairwise import cosine_similarity"
   ]
  },
  {
   "cell_type": "code",
   "execution_count": 2,
   "id": "6fabe44a-2795-4b11-96f8-78b7f92494f1",
   "metadata": {
    "tags": []
   },
   "outputs": [
    {
     "data": {
      "text/html": [
       "<div>\n",
       "<style scoped>\n",
       "    .dataframe tbody tr th:only-of-type {\n",
       "        vertical-align: middle;\n",
       "    }\n",
       "\n",
       "    .dataframe tbody tr th {\n",
       "        vertical-align: top;\n",
       "    }\n",
       "\n",
       "    .dataframe thead th {\n",
       "        text-align: right;\n",
       "    }\n",
       "</style>\n",
       "<table border=\"1\" class=\"dataframe\">\n",
       "  <thead>\n",
       "    <tr style=\"text-align: right;\">\n",
       "      <th></th>\n",
       "      <th>User_Id</th>\n",
       "      <th>Product_Id</th>\n",
       "      <th>Rating</th>\n",
       "      <th>Timestamp</th>\n",
       "    </tr>\n",
       "  </thead>\n",
       "  <tbody>\n",
       "    <tr>\n",
       "      <th>0</th>\n",
       "      <td>AKM1MP6P0OYPR</td>\n",
       "      <td>0132793040</td>\n",
       "      <td>5.0</td>\n",
       "      <td>1365811200</td>\n",
       "    </tr>\n",
       "    <tr>\n",
       "      <th>1</th>\n",
       "      <td>A2CX7LUOHB2NDG</td>\n",
       "      <td>0321732944</td>\n",
       "      <td>5.0</td>\n",
       "      <td>1341100800</td>\n",
       "    </tr>\n",
       "    <tr>\n",
       "      <th>2</th>\n",
       "      <td>A2NWSAGRHCP8N5</td>\n",
       "      <td>0439886341</td>\n",
       "      <td>1.0</td>\n",
       "      <td>1367193600</td>\n",
       "    </tr>\n",
       "    <tr>\n",
       "      <th>3</th>\n",
       "      <td>A2WNBOD3WNDNKT</td>\n",
       "      <td>0439886341</td>\n",
       "      <td>3.0</td>\n",
       "      <td>1374451200</td>\n",
       "    </tr>\n",
       "    <tr>\n",
       "      <th>4</th>\n",
       "      <td>A1GI0U4ZRJA8WN</td>\n",
       "      <td>0439886341</td>\n",
       "      <td>1.0</td>\n",
       "      <td>1334707200</td>\n",
       "    </tr>\n",
       "  </tbody>\n",
       "</table>\n",
       "</div>"
      ],
      "text/plain": [
       "          User_Id  Product_Id  Rating   Timestamp\n",
       "0   AKM1MP6P0OYPR  0132793040     5.0  1365811200\n",
       "1  A2CX7LUOHB2NDG  0321732944     5.0  1341100800\n",
       "2  A2NWSAGRHCP8N5  0439886341     1.0  1367193600\n",
       "3  A2WNBOD3WNDNKT  0439886341     3.0  1374451200\n",
       "4  A1GI0U4ZRJA8WN  0439886341     1.0  1334707200"
      ]
     },
     "execution_count": 2,
     "metadata": {},
     "output_type": "execute_result"
    }
   ],
   "source": [
    "data = pd.read_csv('../data/ai case study.csv', names=['User_Id', 'Product_Id', 'Rating', 'Timestamp'])\n",
    "data.head()"
   ]
  },
  {
   "cell_type": "code",
   "execution_count": 3,
   "id": "2faa38ee-6314-4bce-9494-9001c1fd4eab",
   "metadata": {
    "tags": []
   },
   "outputs": [],
   "source": [
    "def normalize(x):\n",
    "    x = x.astype(float)\n",
    "    x_sum = x.sum()\n",
    "    x_num = x.astype(bool).sum()\n",
    "    x_mean = x_sum / x_num\n",
    "\n",
    "    if x_num == 1 or x.std() == 0:\n",
    "        return 0.0\n",
    "    return (x - x_mean) / (x.max() - x.min())"
   ]
  },
  {
   "cell_type": "code",
   "execution_count": 4,
   "id": "ec90b4eb-dce9-47cd-89f2-3720c7246e09",
   "metadata": {
    "tags": []
   },
   "outputs": [],
   "source": [
    "data['Rating'] = data['Rating'].astype(float)\n",
    "data['Average_Rating'] = data.groupby('User_Id')['Rating'].transform(lambda x: normalize(x))\n",
    "data['User_Id'] = data['User_Id'].astype('category')\n",
    "data['Product_Id'] = data['Product_Id'].astype('category')"
   ]
  },
  {
   "cell_type": "code",
   "execution_count": 6,
   "id": "85d46345-9b27-4ffe-9f16-448024a2e454",
   "metadata": {
    "tags": []
   },
   "outputs": [],
   "source": [
    "coo = coo_matrix((data['Average_Rating'].astype(float), (data['Product_Id'].cat.codes.copy(), data['User_Id'].cat.codes.copy())))"
   ]
  },
  {
   "cell_type": "code",
   "execution_count": 7,
   "id": "a475109e-f86f-468d-a04a-4eba767037d2",
   "metadata": {
    "tags": []
   },
   "outputs": [],
   "source": [
    "overlap_matrix = coo.astype(bool).astype(int).dot(coo.transpose().astype(bool).astype(int))"
   ]
  },
  {
   "cell_type": "code",
   "execution_count": 8,
   "id": "c8f1511a-cac3-482e-986c-503e19983de3",
   "metadata": {
    "tags": []
   },
   "outputs": [
    {
     "ename": "NameError",
     "evalue": "name 'cosine_similarity' is not defined",
     "output_type": "error",
     "traceback": [
      "\u001b[0;31m---------------------------------------------------------------------------\u001b[0m",
      "\u001b[0;31mNameError\u001b[0m                                 Traceback (most recent call last)",
      "Cell \u001b[0;32mIn[8], line 3\u001b[0m\n\u001b[1;32m      1\u001b[0m min_sim \u001b[38;5;241m=\u001b[39m \u001b[38;5;241m0.2\u001b[39m\n\u001b[1;32m      2\u001b[0m min_overlap\u001b[38;5;241m=\u001b[39m\u001b[38;5;241m15\u001b[39m\n\u001b[0;32m----> 3\u001b[0m cor \u001b[38;5;241m=\u001b[39m \u001b[43mcosine_similarity\u001b[49m(coo, dense_output\u001b[38;5;241m=\u001b[39m\u001b[38;5;28;01mFalse\u001b[39;00m)\n\u001b[1;32m      4\u001b[0m cor \u001b[38;5;241m=\u001b[39m cor\u001b[38;5;241m.\u001b[39mmultiply(cor \u001b[38;5;241m>\u001b[39m min_sim)\n\u001b[1;32m      5\u001b[0m cor \u001b[38;5;241m=\u001b[39m cor\u001b[38;5;241m.\u001b[39mmultiply(overlap_matrix \u001b[38;5;241m>\u001b[39m min_overlap)\n",
      "\u001b[0;31mNameError\u001b[0m: name 'cosine_similarity' is not defined"
     ]
    }
   ],
   "source": [
    "min_sim = 0.2\n",
    "min_overlap=15\n",
    "cor = cosine_similarity(coo, dense_output=False)\n",
    "cor = cor.multiply(cor > min_sim)\n",
    "cor = cor.multiply(overlap_matrix > min_overlap)"
   ]
  },
  {
   "cell_type": "code",
   "execution_count": null,
   "id": "89747c82-3b12-486b-b151-9d5edd0422c5",
   "metadata": {},
   "outputs": [],
   "source": [
    "products = dict(enumerate(data['Product_Id'].cat.categories))\n",
    "products = {v: k for k, v in products.items()}"
   ]
  },
  {
   "cell_type": "code",
   "execution_count": null,
   "id": "3028a691-4acd-4e3e-b4f0-16f1e5b36ebb",
   "metadata": {},
   "outputs": [],
   "source": [
    "np.random.seed(12)\n",
    "user_id = data.User_Id.sample(1).values[0]\n",
    "user_id"
   ]
  },
  {
   "cell_type": "code",
   "execution_count": null,
   "id": "abcb3f2b-cb7a-4d1e-8ab7-949d9837b697",
   "metadata": {},
   "outputs": [],
   "source": [
    "active_user_items = data[data.User_Id == user_id].sort_values(by=['Rating', 'Timestamp'], ascending=[False, False])[:100].to_dict('records')\n",
    "active_user_items"
   ]
  },
  {
   "cell_type": "code",
   "execution_count": null,
   "id": "b02dfd13-3593-4828-ae08-541cf5a274b6",
   "metadata": {},
   "outputs": [],
   "source": [
    "product_ids = {product['Product_Id']: product['Rating'] for product in active_user_items}\n",
    "product_ids"
   ]
  }
 ],
 "metadata": {
  "kernelspec": {
   "display_name": "Python 3 (ipykernel)",
   "language": "python",
   "name": "python3"
  },
  "language_info": {
   "codemirror_mode": {
    "name": "ipython",
    "version": 3
   },
   "file_extension": ".py",
   "mimetype": "text/x-python",
   "name": "python",
   "nbconvert_exporter": "python",
   "pygments_lexer": "ipython3",
   "version": "3.8.16"
  }
 },
 "nbformat": 4,
 "nbformat_minor": 5
}
